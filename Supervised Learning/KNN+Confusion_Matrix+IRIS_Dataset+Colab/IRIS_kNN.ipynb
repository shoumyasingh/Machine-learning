{
  "nbformat": 4,
  "nbformat_minor": 0,
  "metadata": {
    "colab": {
      "name": "IRIS_kNN.ipynb",
      "provenance": [],
      "toc_visible": true
    },
    "kernelspec": {
      "name": "python3",
      "display_name": "Python 3"
    },
    "language_info": {
      "name": "python"
    }
  },
  "cells": [
    {
      "cell_type": "code",
      "metadata": {
        "id": "OybRy3audHWV"
      },
      "source": [
        "import pandas as pd\n",
        "import numpy as np\n",
        "import sklearn\n",
        "import seaborn as sns\n",
        "import matplotlib.pyplot as plt\n",
        "from sklearn.preprocessing import StandardScaler\n",
        "from sklearn import metrics\n",
        "from sklearn.metrics import *\n",
        "from sklearn.model_selection import *\n",
        "from sklearn.model_selection import train_test_split\n",
        "from sklearn.neighbors import KNeighborsClassifier"
      ],
      "execution_count": 175,
      "outputs": []
    },
    {
      "cell_type": "code",
      "metadata": {
        "colab": {
          "base_uri": "https://localhost:8080/",
          "height": 179
        },
        "id": "N9bCRWw-iLJl",
        "outputId": "30c947a3-d996-4032-b22e-6a0065bd0d5a"
      },
      "source": [
        "iris = pd.read_csv('iris.csv')\n",
        "col_list = iris.columns\n",
        "print(type(col_list))\n",
        "print(col_list[:])\n",
        "iris['species'].value_counts()\n",
        "iris_data = iris.iloc[:,0:4] # select all the rows and col indices 0 to 3\n",
        "iris_lables = iris.iloc[:,4:] # select all trhe rows and 4th cloumn\n",
        "iris_data.shape\n",
        "iris_data.head(2)"
      ],
      "execution_count": 176,
      "outputs": [
        {
          "output_type": "stream",
          "text": [
            "<class 'pandas.core.indexes.base.Index'>\n",
            "Index(['sepal_length', 'sepal_width', 'petal_length', 'petal_width',\n",
            "       'species'],\n",
            "      dtype='object')\n"
          ],
          "name": "stdout"
        },
        {
          "output_type": "execute_result",
          "data": {
            "text/html": [
              "<div>\n",
              "<style scoped>\n",
              "    .dataframe tbody tr th:only-of-type {\n",
              "        vertical-align: middle;\n",
              "    }\n",
              "\n",
              "    .dataframe tbody tr th {\n",
              "        vertical-align: top;\n",
              "    }\n",
              "\n",
              "    .dataframe thead th {\n",
              "        text-align: right;\n",
              "    }\n",
              "</style>\n",
              "<table border=\"1\" class=\"dataframe\">\n",
              "  <thead>\n",
              "    <tr style=\"text-align: right;\">\n",
              "      <th></th>\n",
              "      <th>sepal_length</th>\n",
              "      <th>sepal_width</th>\n",
              "      <th>petal_length</th>\n",
              "      <th>petal_width</th>\n",
              "    </tr>\n",
              "  </thead>\n",
              "  <tbody>\n",
              "    <tr>\n",
              "      <th>0</th>\n",
              "      <td>5.1</td>\n",
              "      <td>3.5</td>\n",
              "      <td>1.4</td>\n",
              "      <td>0.2</td>\n",
              "    </tr>\n",
              "    <tr>\n",
              "      <th>1</th>\n",
              "      <td>4.9</td>\n",
              "      <td>3.0</td>\n",
              "      <td>1.4</td>\n",
              "      <td>0.2</td>\n",
              "    </tr>\n",
              "  </tbody>\n",
              "</table>\n",
              "</div>"
            ],
            "text/plain": [
              "   sepal_length  sepal_width  petal_length  petal_width\n",
              "0           5.1          3.5           1.4          0.2\n",
              "1           4.9          3.0           1.4          0.2"
            ]
          },
          "metadata": {
            "tags": []
          },
          "execution_count": 176
        }
      ]
    },
    {
      "cell_type": "code",
      "metadata": {
        "colab": {
          "base_uri": "https://localhost:8080/",
          "height": 111
        },
        "id": "Ct-DSxycsrUB",
        "outputId": "93ff857c-99ea-4e11-f069-687c2c2d1176"
      },
      "source": [
        "iris_lables.shape\n",
        "iris_lables.head(2)"
      ],
      "execution_count": 177,
      "outputs": [
        {
          "output_type": "execute_result",
          "data": {
            "text/html": [
              "<div>\n",
              "<style scoped>\n",
              "    .dataframe tbody tr th:only-of-type {\n",
              "        vertical-align: middle;\n",
              "    }\n",
              "\n",
              "    .dataframe tbody tr th {\n",
              "        vertical-align: top;\n",
              "    }\n",
              "\n",
              "    .dataframe thead th {\n",
              "        text-align: right;\n",
              "    }\n",
              "</style>\n",
              "<table border=\"1\" class=\"dataframe\">\n",
              "  <thead>\n",
              "    <tr style=\"text-align: right;\">\n",
              "      <th></th>\n",
              "      <th>species</th>\n",
              "    </tr>\n",
              "  </thead>\n",
              "  <tbody>\n",
              "    <tr>\n",
              "      <th>0</th>\n",
              "      <td>Setosa</td>\n",
              "    </tr>\n",
              "    <tr>\n",
              "      <th>1</th>\n",
              "      <td>Setosa</td>\n",
              "    </tr>\n",
              "  </tbody>\n",
              "</table>\n",
              "</div>"
            ],
            "text/plain": [
              "  species\n",
              "0  Setosa\n",
              "1  Setosa"
            ]
          },
          "metadata": {
            "tags": []
          },
          "execution_count": 177
        }
      ]
    },
    {
      "cell_type": "code",
      "metadata": {
        "colab": {
          "base_uri": "https://localhost:8080/"
        },
        "id": "-wxV4MKzswaB",
        "outputId": "ea0a8906-2f3e-4a18-873e-d5729d6c9bfb"
      },
      "source": [
        "#standardizing using sklearn pre-processing\n",
        "iris_standard = StandardScaler().fit_transform(iris_data)  # this has transformed dataframe to numpy N-dimensional array,\n",
        "#each row in df is a list we will have n inner lists in a outer list,thats why length of iris_standard is 150 and \n",
        "#length of each inner list is 4.\n",
        "print('length of iris_standard is ',len(iris_standard))\n",
        "print('length of inner list is',len(iris_standard[0]))\n",
        "print('sample elements are')\n",
        "print((iris_standard[0:3]))"
      ],
      "execution_count": 178,
      "outputs": [
        {
          "output_type": "stream",
          "text": [
            "length of iris_standard is  150\n",
            "length of inner list is 4\n",
            "sample elements are\n",
            "[[-0.90068117  1.01900435 -1.34022653 -1.3154443 ]\n",
            " [-1.14301691 -0.13197948 -1.34022653 -1.3154443 ]\n",
            " [-1.38535265  0.32841405 -1.39706395 -1.3154443 ]]\n"
          ],
          "name": "stdout"
        }
      ]
    },
    {
      "cell_type": "code",
      "metadata": {
        "colab": {
          "base_uri": "https://localhost:8080/"
        },
        "id": "YoYiaLI_s2fy",
        "outputId": "57bbf40c-5658-426c-96f1-ba6adf6204d0"
      },
      "source": [
        "#splitting dataset into train and test\n",
        "\n",
        "\n",
        "iris_lables_np = iris_lables.values.reshape(1,150)\n",
        "x_train, x_test, y_train, y_test = train_test_split(iris_standard, iris_lables_np[0], test_size=0.33, random_state=42)\n",
        "print(x_test[0:2],y_test[0:2])\n",
        "print(len(x_test),len(y_test))\n",
        "print(len(x_train),len(y_train))\n"
      ],
      "execution_count": 179,
      "outputs": [
        {
          "output_type": "stream",
          "text": [
            "[[ 3.10997534e-01 -5.92373012e-01  5.35408562e-01  8.77547895e-04]\n",
            " [-1.73673948e-01  1.70959465e+00 -1.16971425e+00 -1.18381211e+00]] ['Versicolor' 'Setosa']\n",
            "50 50\n",
            "100 100\n"
          ],
          "name": "stdout"
        }
      ]
    },
    {
      "cell_type": "code",
      "metadata": {
        "colab": {
          "base_uri": "https://localhost:8080/"
        },
        "id": "XoXNKtjIs7XY",
        "outputId": "c2ee6ff0-516f-4956-d997-8bfdac47981e"
      },
      "source": [
        "#Training using K_NN\n",
        "\n",
        "neigh = KNeighborsClassifier(n_neighbors=5)\n",
        "neigh.fit(x_train, y_train)"
      ],
      "execution_count": 180,
      "outputs": [
        {
          "output_type": "execute_result",
          "data": {
            "text/plain": [
              "KNeighborsClassifier(algorithm='auto', leaf_size=30, metric='minkowski',\n",
              "                     metric_params=None, n_jobs=None, n_neighbors=5, p=2,\n",
              "                     weights='uniform')"
            ]
          },
          "metadata": {
            "tags": []
          },
          "execution_count": 180
        }
      ]
    },
    {
      "cell_type": "code",
      "metadata": {
        "colab": {
          "base_uri": "https://localhost:8080/"
        },
        "id": "BKpSqhRms9UT",
        "outputId": "d99a02b9-e68b-420f-cedb-f567d4e7dc53"
      },
      "source": [
        "#predicting\n",
        "\n",
        "predict_array = neigh.predict(x_test)\n",
        "print(metrics.accuracy_score(y_test, predict_array))\n",
        "#print(predict_array[0])\n",
        "#print(y_test[0])\n",
        "\n",
        "for i in range(len(predict_array)):\n",
        "   if (predict_array[i] != y_test[i]):\n",
        "       print('actual is {} but predicted is {}'.format(y_test[i],predict_array[i]))\n",
        "       print('Wrong')"
      ],
      "execution_count": 181,
      "outputs": [
        {
          "output_type": "stream",
          "text": [
            "0.98\n",
            "actual is Virginica but predicted is Versicolor\n",
            "Wrong\n"
          ],
          "name": "stdout"
        }
      ]
    },
    {
      "cell_type": "code",
      "metadata": {
        "colab": {
          "base_uri": "https://localhost:8080/"
        },
        "id": "-IdpY4vGtElA",
        "outputId": "07adcd3a-f52a-4034-944a-068d8bd303a8"
      },
      "source": [
        "#prediction on non standardized data\n",
        "x_train, x_test, y_train, y_test = train_test_split(iris_data, iris_lables_np[0], test_size=0.33, random_state=42)\n",
        "neigh2 = KNeighborsClassifier(n_neighbors=5)\n",
        "neigh2.fit(x_train, y_train) \n",
        "predict_array = neigh2.predict(x_test)\n",
        "print(metrics.accuracy_score(y_test, predict_array))"
      ],
      "execution_count": 182,
      "outputs": [
        {
          "output_type": "stream",
          "text": [
            "0.98\n"
          ],
          "name": "stdout"
        }
      ]
    },
    {
      "cell_type": "code",
      "metadata": {
        "colab": {
          "base_uri": "https://localhost:8080/",
          "height": 433
        },
        "id": "2Nf7oEW4tLgk",
        "outputId": "d5a1b723-0973-4511-eddf-44dfde9c0e64"
      },
      "source": [
        "#cross validation using 10 folds,cv=10\n",
        "\n",
        "k_list= [1,3,5,7,9]\n",
        "cv_scores=[]\n",
        "\n",
        "for i in k_list:\n",
        "    cross_neigh = KNeighborsClassifier(n_neighbors=i)\n",
        "    scores = cross_val_score(cross_neigh,x_train, y_train,cv=10)\n",
        "    cv_scores.append(np.mean(scores))\n",
        "\n",
        "print(len(cv_scores))\n",
        "print(cv_scores)\n",
        "\n",
        "cv_score_zip=zip(k_list,cv_scores)\n",
        "\n",
        "for i in cv_score_zip:\n",
        "    print(i)\n",
        "\n",
        "\n",
        "#plot for K-value and accuracy using 10 fold cv.\n",
        "\n",
        "plt.figure('Iris_KNN')\n",
        "plt.xlabel('k_value')\n",
        "plt.ylabel('cv_score')\n",
        "plt.grid()\n",
        "plt.plot(k_list,cv_scores)\n",
        "plt.show()\n",
        "\n",
        "# based on above observations we are getting maximum accuracy when k=7,\n",
        "#So we will use K-value 7 and predict on test datsset and see accuracy.\n",
        "\n",
        "neigh_K7 = KNeighborsClassifier(n_neighbors=7)\n",
        "neigh_K7.fit(x_train, y_train)\n",
        "predict_array_k7 = neigh_K7.predict(x_test)\n",
        "print(metrics.accuracy_score(y_test, predict_array_k7))\n",
        "predict_probability = neigh_K7.predict_proba(x_test)\n",
        "\n",
        "#zipped_pobability = zip(predict_array_k7,predict_probability)\n",
        "#for i in zipped_pobability:\n",
        "#    print(i)\n",
        "\n",
        "cross_predict = cross_val_predict(cross_neigh,x_test,y_test,cv=10)\n",
        "print(metrics.accuracy_score(y_test, cross_predict))"
      ],
      "execution_count": 183,
      "outputs": [
        {
          "output_type": "stream",
          "text": [
            "5\n",
            "[0.9400000000000001, 0.9400000000000001, 0.9400000000000001, 0.9400000000000001, 0.9400000000000001]\n",
            "(1, 0.9400000000000001)\n",
            "(3, 0.9400000000000001)\n",
            "(5, 0.9400000000000001)\n",
            "(7, 0.9400000000000001)\n",
            "(9, 0.9400000000000001)\n"
          ],
          "name": "stdout"
        },
        {
          "output_type": "display_data",
          "data": {
            "image/png": "[encoded data removed]",
            "text/plain": [
              "<Figure size 432x288 with 1 Axes>"
            ]
          },
          "metadata": {
            "tags": [],
            "needs_background": "light"
          }
        },
        {
          "output_type": "stream",
          "text": [
            "0.98\n",
            "0.96\n"
          ],
          "name": "stdout"
        }
      ]
    },
    {
      "cell_type": "code",
      "metadata": {
        "colab": {
          "base_uri": "https://localhost:8080/"
        },
        "id": "i1TtV65rtqJZ",
        "outputId": "454966d3-35b1-4c0d-db55-63158f7eedb4"
      },
      "source": [
        "#confusion matrix and classification_report\n",
        "#precision = TP/TP+FP\n",
        "#Recall = TP/TP+FN\n",
        "\n",
        "print(metrics.confusion_matrix(y_test, cross_predict))\n",
        "print(metrics.classification_report(y_test, cross_predict))"
      ],
      "execution_count": 185,
      "outputs": [
        {
          "output_type": "stream",
          "text": [
            "[[19  0  0]\n",
            " [ 0 15  0]\n",
            " [ 0  2 14]]\n",
            "              precision    recall  f1-score   support\n",
            "\n",
            "      Setosa       1.00      1.00      1.00        19\n",
            "  Versicolor       0.88      1.00      0.94        15\n",
            "   Virginica       1.00      0.88      0.93        16\n",
            "\n",
            "    accuracy                           0.96        50\n",
            "   macro avg       0.96      0.96      0.96        50\n",
            "weighted avg       0.96      0.96      0.96        50\n",
            "\n"
          ],
          "name": "stdout"
        }
      ]
    }
  ]
}